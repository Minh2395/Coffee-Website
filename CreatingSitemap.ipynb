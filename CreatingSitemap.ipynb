{
 "cells": [
  {
   "cell_type": "code",
   "execution_count": 1,
   "id": "a59013e8",
   "metadata": {},
   "outputs": [],
   "source": [
    "import requests\n",
    "from bs4 import BeautifulSoup\n",
    "import xml.etree.ElementTree as et"
   ]
  },
  {
   "cell_type": "code",
   "execution_count": 2,
   "id": "3631deb3",
   "metadata": {},
   "outputs": [],
   "source": [
    "BASE_URL = \"https://minh2395.github.io/\"\n",
    "\n",
    "response = requests.get(BASE_URL)\n",
    "soup = BeautifulSoup(response.text, \"html.parser\")\n",
    "\n",
    "links = set()\n",
    "for a_tag in soup.find_all(\"a\", href=True):\n",
    "    href = a_tag[\"href\"]\n",
    "    if href.endswith(\".html\") or href == \"/\":\n",
    "        if href.startswith(\"http\"):\n",
    "            links.add(href)\n",
    "        else:\n",
    "            links.add(BASE_URL + href.lstrip(\"/\"))"
   ]
  },
  {
   "cell_type": "code",
   "execution_count": 3,
   "id": "4b54ca03",
   "metadata": {},
   "outputs": [],
   "source": [
    "links.add(BASE_URL)"
   ]
  },
  {
   "cell_type": "code",
   "execution_count": 5,
   "id": "b9ed43a1",
   "metadata": {},
   "outputs": [
    {
     "name": "stdout",
     "output_type": "stream",
     "text": [
      "✅ Đã tạo xong sitemap.xml thành công!\n"
     ]
    }
   ],
   "source": [
    "urlset = et.Element(\"urlset\", xmlns=\"http://www.sitemaps.org/schemas/sitemap/0.9\")\n",
    "\n",
    "for link in sorted(links):\n",
    "    url = et.SubElement(urlset, \"url\")\n",
    "    loc = et.SubElement(url, \"loc\")\n",
    "    loc.text = link\n",
    "    lastmod = et.SubElement(url, \"lastmod\")\n",
    "    lastmod.text = \"2025-10-23\"\n",
    "    changefreq = et.SubElement(url, \"changefreq\")\n",
    "    changefreq.text = \"weekly\"\n",
    "    priority = et.SubElement(url, \"priority\")\n",
    "    priority.text = \"0.8\"\n",
    "\n",
    "tree = et.ElementTree(urlset)\n",
    "tree.write(r\"C:\\Users\\Admin\\Documents\\FrontEnd\\Coffee Website\\sitemap.xml\", encoding=\"utf-8\", xml_declaration=True)\n",
    "\n",
    "print(\"✅ Đã tạo xong sitemap.xml thành công!\")"
   ]
  }
 ],
 "metadata": {
  "kernelspec": {
   "display_name": "base",
   "language": "python",
   "name": "python3"
  },
  "language_info": {
   "codemirror_mode": {
    "name": "ipython",
    "version": 3
   },
   "file_extension": ".py",
   "mimetype": "text/x-python",
   "name": "python",
   "nbconvert_exporter": "python",
   "pygments_lexer": "ipython3",
   "version": "3.13.5"
  }
 },
 "nbformat": 4,
 "nbformat_minor": 5
}
